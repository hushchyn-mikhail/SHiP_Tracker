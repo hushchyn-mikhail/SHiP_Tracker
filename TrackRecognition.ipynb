{
 "cells": [
  {
   "cell_type": "code",
   "execution_count": 134,
   "metadata": {
    "collapsed": true
   },
   "outputs": [],
   "source": [
    "import numpy as np\n",
    "import pandas as pd\n",
    "import matplotlib.pyplot as plt\n",
    "from math import *\n",
    "%matplotlib inline"
   ]
  },
  {
   "cell_type": "code",
   "execution_count": 135,
   "metadata": {
    "collapsed": false
   },
   "outputs": [
    {
     "data": {
      "text/html": [
       "<div>\n",
       "<table border=\"1\" class=\"dataframe\">\n",
       "  <thead>\n",
       "    <tr style=\"text-align: right;\">\n",
       "      <th></th>\n",
       "      <th>Index</th>\n",
       "      <th>X</th>\n",
       "      <th>Y</th>\n",
       "      <th>Z</th>\n",
       "      <th>TrackID</th>\n",
       "      <th>Time</th>\n",
       "      <th>StatNb</th>\n",
       "      <th>ViewNb</th>\n",
       "      <th>PlaneNb</th>\n",
       "      <th>LayerNb</th>\n",
       "      <th>StrawNb</th>\n",
       "      <th>dist2Wire</th>\n",
       "      <th>event</th>\n",
       "      <th>k</th>\n",
       "    </tr>\n",
       "  </thead>\n",
       "  <tbody>\n",
       "    <tr>\n",
       "      <th>0</th>\n",
       "      <td>0</td>\n",
       "      <td>8.883409</td>\n",
       "      <td>-61.202305</td>\n",
       "      <td>-1974.859985</td>\n",
       "      <td>3</td>\n",
       "      <td>232.044861</td>\n",
       "      <td>5</td>\n",
       "      <td>0</td>\n",
       "      <td>0</td>\n",
       "      <td>0</td>\n",
       "      <td>319</td>\n",
       "      <td>0.274822</td>\n",
       "      <td>0</td>\n",
       "      <td>0</td>\n",
       "    </tr>\n",
       "    <tr>\n",
       "      <th>1</th>\n",
       "      <td>1</td>\n",
       "      <td>8.858191</td>\n",
       "      <td>-61.225544</td>\n",
       "      <td>-1973.742188</td>\n",
       "      <td>3</td>\n",
       "      <td>232.074081</td>\n",
       "      <td>5</td>\n",
       "      <td>0</td>\n",
       "      <td>0</td>\n",
       "      <td>1</td>\n",
       "      <td>320</td>\n",
       "      <td>0.582455</td>\n",
       "      <td>0</td>\n",
       "      <td>1</td>\n",
       "    </tr>\n",
       "    <tr>\n",
       "      <th>2</th>\n",
       "      <td>2</td>\n",
       "      <td>8.824563</td>\n",
       "      <td>-61.256523</td>\n",
       "      <td>-1972.251953</td>\n",
       "      <td>3</td>\n",
       "      <td>232.118286</td>\n",
       "      <td>5</td>\n",
       "      <td>0</td>\n",
       "      <td>1</td>\n",
       "      <td>0</td>\n",
       "      <td>319</td>\n",
       "      <td>0.111252</td>\n",
       "      <td>0</td>\n",
       "      <td>2</td>\n",
       "    </tr>\n",
       "    <tr>\n",
       "      <th>3</th>\n",
       "      <td>3</td>\n",
       "      <td>8.632817</td>\n",
       "      <td>-61.432972</td>\n",
       "      <td>-1963.756592</td>\n",
       "      <td>3</td>\n",
       "      <td>232.406479</td>\n",
       "      <td>5</td>\n",
       "      <td>1</td>\n",
       "      <td>0</td>\n",
       "      <td>1</td>\n",
       "      <td>320</td>\n",
       "      <td>0.164412</td>\n",
       "      <td>0</td>\n",
       "      <td>3</td>\n",
       "    </tr>\n",
       "    <tr>\n",
       "      <th>4</th>\n",
       "      <td>4</td>\n",
       "      <td>8.573978</td>\n",
       "      <td>-61.487133</td>\n",
       "      <td>-1961.149292</td>\n",
       "      <td>3</td>\n",
       "      <td>232.488541</td>\n",
       "      <td>5</td>\n",
       "      <td>1</td>\n",
       "      <td>1</td>\n",
       "      <td>1</td>\n",
       "      <td>320</td>\n",
       "      <td>0.226827</td>\n",
       "      <td>0</td>\n",
       "      <td>4</td>\n",
       "    </tr>\n",
       "  </tbody>\n",
       "</table>\n",
       "</div>"
      ],
      "text/plain": [
       "   Index         X          Y            Z  TrackID        Time  StatNb  \\\n",
       "0      0  8.883409 -61.202305 -1974.859985        3  232.044861       5   \n",
       "1      1  8.858191 -61.225544 -1973.742188        3  232.074081       5   \n",
       "2      2  8.824563 -61.256523 -1972.251953        3  232.118286       5   \n",
       "3      3  8.632817 -61.432972 -1963.756592        3  232.406479       5   \n",
       "4      4  8.573978 -61.487133 -1961.149292        3  232.488541       5   \n",
       "\n",
       "   ViewNb  PlaneNb  LayerNb  StrawNb  dist2Wire  event  k  \n",
       "0       0        0        0      319   0.274822      0  0  \n",
       "1       0        0        1      320   0.582455      0  1  \n",
       "2       0        1        0      319   0.111252      0  2  \n",
       "3       1        0        1      320   0.164412      0  3  \n",
       "4       1        1        1      320   0.226827      0  4  "
      ]
     },
     "execution_count": 135,
     "metadata": {},
     "output_type": "execute_result"
    }
   ],
   "source": [
    "all_hits = pd.read_csv('Data/strawtubesPoint_decoded_hits.csv', delimiter=',')\n",
    "all_hits['Index'] = all_hits.index\n",
    "all_hits = all_hits[['Index', 'X', 'Y', 'Z', 'TrackID', 'Time', 'StatNb', 'ViewNb', 'PlaneNb', 'LayerNb', 'StrawNb', 'dist2Wire', 'event', 'k']]\n",
    "all_hits.head()"
   ]
  },
  {
   "cell_type": "code",
   "execution_count": 136,
   "metadata": {
    "collapsed": true
   },
   "outputs": [],
   "source": [
    "class layer:\n",
    "    def __init__(self, z, bias):\n",
    "        self.bias = bias\n",
    "        self.z = z\n",
    "    def y(self, straw_id):\n",
    "        return 499 - self.bias - straw_id * 1.76\n",
    "    \n",
    "class coordinates:\n",
    "    def __init__(self, x, y, z):\n",
    "        self.x = x\n",
    "        self.y = y\n",
    "        self.z = z"
   ]
  },
  {
   "cell_type": "code",
   "execution_count": 137,
   "metadata": {
    "collapsed": true
   },
   "outputs": [],
   "source": [
    "l1000 = layer(2581.15, 0.5*0.9828)\n",
    "l1001 = layer(2582.25, 0.5*0.9828 - 0.88)\n",
    "l1010 = layer(2584.85, 0.5*0.9828 - 0.44)\n",
    "l1011 = layer(2585.95, 0.5*0.9828 - 0.44 - 0.88)\n",
    "   \n",
    "l1300 = layer(2611.15, 0.5*0.9828)\n",
    "l1301 = layer(2612.25, 0.5*0.9828 - 0.88)\n",
    "l1310 = layer(2614.85, 0.5*0.9828 - 0.44)\n",
    "l1311 = layer(2615.95, 0.5*0.9828 - 0.44 - 0.88)\n",
    "\n",
    "l2000 = layer(2781.15, 0.5*0.9828)\n",
    "l2001 = layer(2782.25, 0.5*0.9828 - 0.88)\n",
    "l2010 = layer(2784.85, 0.5*0.9828 - 0.44)\n",
    "l2011 = layer(2785.95, 0.5*0.9828 - 0.44 - 0.88)\n",
    "\n",
    "l2300 = layer(2811.15, 0.5*0.9828)\n",
    "l2301 = layer(2812.25, 0.5*0.9828 - 0.88)\n",
    "l2310 = layer(2814.85, 0.5*0.9828 - 0.44)\n",
    "l2311 = layer(2815.95, 0.5*0.9828 - 0.44 - 0.88)\n",
    "\n",
    "d ={'1000':l1000, '1001':l1001, '1010':l1010, '1011':l1011, '1300':l1300, '1301':l1301, '1310':l1310, '1311':l1311,\n",
    "   '2000':l2000, '2001':l2001, '2010':l2010, '2011':l2011, '2300':l2300, '2301':l2301, '2310':l2310, '2311':l2311}"
   ]
  },
  {
   "cell_type": "code",
   "execution_count": 146,
   "metadata": {
    "collapsed": true
   },
   "outputs": [],
   "source": [
    "#для отбора хитов отдельного слоя\n",
    "def selector(data, StatNb, ViewNb, PlaneNb, LayerNb):\n",
    "    return data.loc[(data.StatNb==StatNb)&(data.ViewNb==ViewNb)&(data.PlaneNb==PlaneNb)&(data.LayerNb==LayerNb)]\n",
    "# восстанавливает по крайним точкам отрезка коэффициент наклона и смещение\n",
    "def get_planeYZ(point1, point2):\n",
    "    y1 = point1[0]\n",
    "    z1 = point1[1]\n",
    "    y2 = point2[0]\n",
    "    z2 = point2[1]\n",
    "    \n",
    "    #y = kz + b\n",
    "    k = float(y2 - y1)/float(z2 - z1)\n",
    "    b = y1 - k*z1\n",
    "    return k, b"
   ]
  },
  {
   "cell_type": "code",
   "execution_count": 151,
   "metadata": {
    "collapsed": false
   },
   "outputs": [
    {
     "data": {
      "text/plain": [
       "{2.0, 3.0}"
      ]
     },
     "execution_count": 151,
     "metadata": {},
     "output_type": "execute_result"
    }
   ],
   "source": [
    "event0 = all_hits[all_hits['event']==2]\n",
    "set(event0['TrackID'])"
   ]
  },
  {
   "cell_type": "code",
   "execution_count": 161,
   "metadata": {
    "collapsed": false
   },
   "outputs": [],
   "source": [
    "def add_centres(event):    \n",
    "    layer1000 = selector(event, 1, 0, 0, 0)\n",
    "    layer1001 = selector(event, 1, 0, 0, 1)\n",
    "    layer1010 = selector(event, 1, 0, 1, 0)\n",
    "    layer1011 = selector(event, 1, 0, 1, 1)\n",
    "\n",
    "    layer1300 = selector(event, 1, 3, 0, 0)\n",
    "    layer1301 = selector(event, 1, 3, 0, 1)\n",
    "    layer1310 = selector(event, 1, 3, 1, 0)\n",
    "    layer1311 = selector(event, 1, 3, 1, 1)\n",
    "\n",
    "    layer2000 = selector(event, 2, 0, 0, 0)\n",
    "    layer2001 = selector(event, 2, 0, 0, 1)\n",
    "    layer2010 = selector(event, 2, 0, 1, 0)\n",
    "    layer2011 = selector(event, 2, 0, 1, 1)\n",
    "\n",
    "    layer2300 = selector(event, 2, 3, 0, 0)\n",
    "    layer2301 = selector(event, 2, 3, 0, 1)\n",
    "    layer2310 = selector(event, 2, 3, 1, 0)\n",
    "    layer2311 = selector(event, 2, 3, 1, 1)\n",
    "    \n",
    "    #1-y1\n",
    "    z1000 = 2598. - 15. - 0.5*(2.6 - 1.1 - 0.9828) - 1.1 - 0.5*0.9828\n",
    "    layer1000.loc[:, 'Wy'] = -(0.5*0.9828 + 1.76*(layer1000.StrawNb.values-1)) + 499\n",
    "    layer1000.loc[:, 'Wz'] = np.ones(layer1000.shape[0])*z1000\n",
    "\n",
    "    z1001 = z1000 + 1.1\n",
    "    layer1001.loc[:, 'Wy'] = -(0.5*0.9828 - 0.88 + 1.76*(layer1001.StrawNb.values-1)) + 499\n",
    "    layer1001.loc[:, 'Wz'] = np.ones(layer1001.shape[0])*z1001\n",
    "\n",
    "    z1010 = z1000 + 2.6\n",
    "    layer1010.loc[:, 'Wy'] = -(0.5*0.9828 - 0.44 + 1.76*(layer1010.StrawNb.values-1)) + 499\n",
    "    layer1010.loc[:, 'Wz'] = np.ones(layer1010.shape[0])*z1010\n",
    "\n",
    "    z1011 = z1010 + 1.1\n",
    "    layer1011.loc[:, 'Wy'] = -(0.5*0.9828 - 0.44 - 0.88 + 1.76*(layer1011.StrawNb.values-1)) + 499\n",
    "    layer1011.loc[:, 'Wz'] = np.ones(layer1011.shape[0])*z1011\n",
    "\n",
    "    #1-y2\n",
    "    z1300 = 2598. + 15. - 0.5*(2.6 - 1.1 - 0.9828) - 1.1 - 0.5*0.9828\n",
    "    layer1300.loc[:, 'Wy'] = -(0.5*0.9828 + 1.76*(layer1300.StrawNb.values-1)) + 499\n",
    "    layer1300.loc[:, 'Wz'] = np.ones(layer1300.shape[0])*z1300\n",
    "\n",
    "    z1301 = z1300 + 1.1\n",
    "    layer1301.loc[:, 'Wy'] = -(0.5*0.9828 - 0.88 + 1.76*(layer1301.StrawNb.values-1)) + 499\n",
    "    layer1301.loc[:, 'Wz'] = np.ones(layer1301.shape[0])*z1301\n",
    "\n",
    "    z1310 = z1300 + 2.6\n",
    "    layer1310.loc[:, 'Wy'] = -(0.5*0.9828 - 0.44 + 1.76*(layer1310.StrawNb.values-1)) + 499\n",
    "    layer1310.loc[:, 'Wz'] = np.ones(layer1310.shape[0])*z1310\n",
    "\n",
    "    z1311 = z1310 + 1.1\n",
    "    layer1311.loc[:, 'Wy'] = -(0.5*0.9828 - 0.44 - 0.88 + 1.76*(layer1311.StrawNb.values-1)) + 499\n",
    "    layer1311.loc[:, 'Wz'] = np.ones(layer1311.shape[0])*z1311\n",
    "\n",
    "    #2-y1\n",
    "    z2000 = 2798. - 15. - 0.5*(2.6 - 1.1 - 0.9828) - 1.1 - 0.5*0.9828\n",
    "    layer2000.loc[:, 'Wy'] = -(0.5*0.9828 + 1.76*(layer2000.StrawNb.values-1)) + 499\n",
    "    layer2000.loc[:, 'Wz'] = np.ones(layer2000.shape[0])*z2000\n",
    "\n",
    "    z2001 = z2000 + 1.1\n",
    "    layer2001.loc[:, 'Wy'] = -(0.5*0.9828 - 0.88 + 1.76*(layer2001.StrawNb.values-1)) + 499\n",
    "    layer2001.loc[:, 'Wz'] = np.ones(layer2001.shape[0])*z2001\n",
    "\n",
    "    z2010 = z2000 + 2.6\n",
    "    layer2010.loc[:, 'Wy'] = -(0.5*0.9828 - 0.44 + 1.76*(layer2010.StrawNb.values-1)) + 499\n",
    "    layer2010.loc[:, 'Wz'] = np.ones(layer2010.shape[0])*z2010\n",
    "\n",
    "    z2011 = z2010 + 1.1\n",
    "    layer2011.loc[:, 'Wy'] = -(0.5*0.9828 - 0.44 - 0.88 + 1.76*(layer2011.StrawNb.values-1)) + 499\n",
    "    layer2011.loc[:, 'Wz'] = np.ones(layer2011.shape[0])*z2011\n",
    "\n",
    "    #2-y2\n",
    "    z2300 = 2798. + 15. - 0.5*(2.6 - 1.1 - 0.9828) - 1.1 - 0.5*0.9828\n",
    "    layer2300.loc[:, 'Wy'] = -(0.5*0.9828 + 1.76*(layer2300.StrawNb.values-1)) + 499\n",
    "    layer2300.loc[:, 'Wz'] = np.ones(layer2300.shape[0])*z2300\n",
    "\n",
    "    z2301 = z2300 + 1.1\n",
    "    layer2301.loc[:, 'Wy'] = -(0.5*0.9828 - 0.88 + 1.76*(layer2301.StrawNb.values-1)) + 499\n",
    "    layer2301.loc[:, 'Wz'] = np.ones(layer2301.shape[0])*z2301\n",
    "\n",
    "    z2310 = z2300 + 2.6\n",
    "    layer2310.loc[:, 'Wy'] = -(0.5*0.9828 - 0.44 + 1.76*(layer2310.StrawNb.values-1)) + 499\n",
    "    layer2310.loc[:, 'Wz'] = np.ones(layer2310.shape[0])*z2310\n",
    "\n",
    "    z2311 = z2310 + 1.1\n",
    "    layer2311.loc[:, 'Wy'] = -(0.5*0.9828 - 0.44 - 0.88 + 1.76*(layer2311.StrawNb.values-1)) + 499\n",
    "    layer2311.loc[:, 'Wz'] = np.ones(layer2311.shape[0])*z2311\n",
    "    \n",
    "    layers = [layer1000, layer1001, layer1010, layer1011,\n",
    "              layer1300, layer1301, layer1310, layer1311,\n",
    "              layer2000, layer2001, layer2010, layer2011,\n",
    "              layer2300, layer2301, layer2310, layer2311]\n",
    "\n",
    "    return pd.concat(layers, axis=0)"
   ]
  },
  {
   "cell_type": "code",
   "execution_count": 141,
   "metadata": {
    "collapsed": false,
    "scrolled": true
   },
   "outputs": [],
   "source": [
    "def conventor(event):\n",
    "    event = add_centres(event)\n",
    "    dictionary = {}\n",
    "    for i in event.Wz.values:\n",
    "        dictionary[i] = []\n",
    "    for i in event.index:\n",
    "        dictionary[event.Wz[i]].append((event.Wy[i], event.dist2Wire[i]))\n",
    "    return dictionary"
   ]
  },
  {
   "cell_type": "code",
   "execution_count": 142,
   "metadata": {
    "collapsed": true
   },
   "outputs": [],
   "source": [
    "def points_crossing_line(plane_k, plane_b, plane_width, dictionary, n_min):\n",
    "    lower_y = 0.\n",
    "    upper_y = 0.\n",
    "    crossing_points = {}\n",
    "    for i in dictionary.keys():\n",
    "        crossing_points[i] = []\n",
    "    for i in dictionary.keys():\n",
    "        lower_y = plane_k * i + plane_b - 1. * plane_width / np.cos(np.arctan(plane_k))\n",
    "        upper_y = plane_k * i + plane_b + 1. * plane_width / np.cos(np.arctan(plane_k))\n",
    "        for j in dictionary[i]:\n",
    "            if ((j[0] < upper_y) & (j[0] > lower_y)):\n",
    "                crossing_points[i].append(j)\n",
    "    n_hits = 0\n",
    "    for i in crossing_points.keys():\n",
    "        n_hits += len(crossing_points[i])\n",
    "    if n_hits < n_min:\n",
    "        return 0, crossing_points\n",
    "    else:\n",
    "        return 1, crossing_points"
   ]
  },
  {
   "cell_type": "code",
   "execution_count": 143,
   "metadata": {
    "collapsed": false
   },
   "outputs": [],
   "source": [
    "def find_candidates(event, n_min, plane_width):\n",
    "    event_ext = add_centres(event)\n",
    "    dictionary = conventor(event_ext)\n",
    "    start_layer = layer(2581.15, 0.5*0.9828)\n",
    "    end_layer = l2311 = layer(2815.95, 0.5*0.9828 - 0.44 - 0.88)\n",
    "    start_y = []\n",
    "    start_z = start_layer.z\n",
    "    end_y = []\n",
    "    end_z = end_layer.z\n",
    "    for i in range(567):\n",
    "        start_y += [start_layer.y(i),]\n",
    "        end_y += [end_layer.y(i),]\n",
    "    tracks = []\n",
    "    for i in start_y:\n",
    "        for j in end_y:\n",
    "            k, b = get_planeYZ((i, start_z), (j, end_z))\n",
    "            indicator, crossing_points = points_crossing_line(k, b, plane_width, dictionary, n_min)\n",
    "            if indicator == 1:\n",
    "                tracks.append((k, b, crossing_points))\n",
    "    return tracks"
   ]
  },
  {
   "cell_type": "code",
   "execution_count": 167,
   "metadata": {
    "collapsed": false
   },
   "outputs": [],
   "source": [
    "tracks = find_candidates(event0, 7, 0.9)"
   ]
  },
  {
   "cell_type": "code",
   "execution_count": 168,
   "metadata": {
    "collapsed": false
   },
   "outputs": [
    {
     "data": {
      "image/png": "[encoded data removed]",
      "text/plain": [
       "<matplotlib.figure.Figure at 0x7f08fea97c50>"
      ]
     },
     "metadata": {},
     "output_type": "display_data"
    }
   ],
   "source": [
    "plt.scatter(add_centres(event0)['Wz'], add_centres(event0)['Wy'])\n",
    "for i in tracks:\n",
    "    t = np.arange(2550, 2850, 299)\n",
    "    plt.plot(t, i[0] * t + i[1], lw = 2)"
   ]
  },
  {
   "cell_type": "code",
   "execution_count": 181,
   "metadata": {
    "collapsed": false
   },
   "outputs": [],
   "source": [
    "def crossing_lines(k1, b1, k2, b2):\n",
    "    z = (b2 - b1) / (k1 - k2)\n",
    "    y = z * k1 + b1\n",
    "    return (y, z)\n",
    "\n",
    "def remove_unnecessary(tracks):\n",
    "    tracks_for_remove = []\n",
    "    for i in tracks:\n",
    "        ind = 0\n",
    "        for j in tracks:\n",
    "            if (i != j):\n",
    "                point = crossing_lines(i[0], i[1], j[0], j[1])\n",
    "                if ((point[0] > -500) & (point[0] < 500) & (point[1] > -2000) & (point[1] < 2581.15)):\n",
    "                    ind = 1\n",
    "        if ind == 0: \n",
    "            tracks_for_remove.append(i)\n",
    "    for i in tracks_for_remove:\n",
    "        tracks.remove(i)"
   ]
  },
  {
   "cell_type": "code",
   "execution_count": 182,
   "metadata": {
    "collapsed": false
   },
   "outputs": [],
   "source": [
    "remove_unnecessary(tracks)"
   ]
  },
  {
   "cell_type": "code",
   "execution_count": 183,
   "metadata": {
    "collapsed": false
   },
   "outputs": [
    {
     "data": {
      "image/png": "[encoded data removed]",
      "text/plain": [
       "<matplotlib.figure.Figure at 0x7f08fef0f6d0>"
      ]
     },
     "metadata": {},
     "output_type": "display_data"
    }
   ],
   "source": [
    "plt.scatter(add_centres(event0)['Wz'], add_centres(event0)['Wy'])\n",
    "for i in tracks:\n",
    "    t = np.arange(2550, 2850, 299)\n",
    "    plt.plot(t, i[0] * t + i[1], lw = 2)"
   ]
  },
  {
   "cell_type": "code",
   "execution_count": null,
   "metadata": {
    "collapsed": true
   },
   "outputs": [],
   "source": []
  }
 ],
 "metadata": {
  "kernelspec": {
   "display_name": "Python 2",
   "language": "python",
   "name": "python2"
  },
  "language_info": {
   "codemirror_mode": {
    "name": "ipython",
    "version": 2
   },
   "file_extension": ".py",
   "mimetype": "text/x-python",
   "name": "python",
   "nbconvert_exporter": "python",
   "pygments_lexer": "ipython2",
   "version": "2.7.10"
  }
 },
 "nbformat": 4,
 "nbformat_minor": 0
}
