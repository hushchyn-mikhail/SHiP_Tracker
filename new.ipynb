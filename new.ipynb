{
 "cells": [
  {
   "cell_type": "code",
   "execution_count": 36,
   "metadata": {
    "collapsed": true
   },
   "outputs": [],
   "source": [
    "import numpy as np\n",
    "import pandas as pd\n",
    "import matplotlib.pyplot as plt\n",
    "from sklearn import linear_model\n",
    "from math import *\n",
    "%matplotlib inline"
   ]
  },
  {
   "cell_type": "code",
   "execution_count": 3,
   "metadata": {
    "collapsed": false
   },
   "outputs": [
    {
     "data": {
      "text/html": [
       "<div>\n",
       "<table border=\"1\" class=\"dataframe\">\n",
       "  <thead>\n",
       "    <tr style=\"text-align: right;\">\n",
       "      <th></th>\n",
       "      <th>Index</th>\n",
       "      <th>X</th>\n",
       "      <th>Y</th>\n",
       "      <th>Z</th>\n",
       "      <th>TrackID</th>\n",
       "      <th>Time</th>\n",
       "      <th>StatNb</th>\n",
       "      <th>ViewNb</th>\n",
       "      <th>PlaneNb</th>\n",
       "      <th>LayerNb</th>\n",
       "      <th>StrawNb</th>\n",
       "      <th>dist2Wire</th>\n",
       "      <th>event</th>\n",
       "      <th>k</th>\n",
       "    </tr>\n",
       "  </thead>\n",
       "  <tbody>\n",
       "    <tr>\n",
       "      <th>0</th>\n",
       "      <td>0</td>\n",
       "      <td>8.883409</td>\n",
       "      <td>-61.202305</td>\n",
       "      <td>-1974.859985</td>\n",
       "      <td>3</td>\n",
       "      <td>232.044861</td>\n",
       "      <td>5</td>\n",
       "      <td>0</td>\n",
       "      <td>0</td>\n",
       "      <td>0</td>\n",
       "      <td>319</td>\n",
       "      <td>0.274822</td>\n",
       "      <td>0</td>\n",
       "      <td>0</td>\n",
       "    </tr>\n",
       "    <tr>\n",
       "      <th>1</th>\n",
       "      <td>1</td>\n",
       "      <td>8.858191</td>\n",
       "      <td>-61.225544</td>\n",
       "      <td>-1973.742188</td>\n",
       "      <td>3</td>\n",
       "      <td>232.074081</td>\n",
       "      <td>5</td>\n",
       "      <td>0</td>\n",
       "      <td>0</td>\n",
       "      <td>1</td>\n",
       "      <td>320</td>\n",
       "      <td>0.582455</td>\n",
       "      <td>0</td>\n",
       "      <td>1</td>\n",
       "    </tr>\n",
       "    <tr>\n",
       "      <th>2</th>\n",
       "      <td>2</td>\n",
       "      <td>8.824563</td>\n",
       "      <td>-61.256523</td>\n",
       "      <td>-1972.251953</td>\n",
       "      <td>3</td>\n",
       "      <td>232.118286</td>\n",
       "      <td>5</td>\n",
       "      <td>0</td>\n",
       "      <td>1</td>\n",
       "      <td>0</td>\n",
       "      <td>319</td>\n",
       "      <td>0.111252</td>\n",
       "      <td>0</td>\n",
       "      <td>2</td>\n",
       "    </tr>\n",
       "    <tr>\n",
       "      <th>3</th>\n",
       "      <td>3</td>\n",
       "      <td>8.632817</td>\n",
       "      <td>-61.432972</td>\n",
       "      <td>-1963.756592</td>\n",
       "      <td>3</td>\n",
       "      <td>232.406479</td>\n",
       "      <td>5</td>\n",
       "      <td>1</td>\n",
       "      <td>0</td>\n",
       "      <td>1</td>\n",
       "      <td>320</td>\n",
       "      <td>0.164412</td>\n",
       "      <td>0</td>\n",
       "      <td>3</td>\n",
       "    </tr>\n",
       "    <tr>\n",
       "      <th>4</th>\n",
       "      <td>4</td>\n",
       "      <td>8.573978</td>\n",
       "      <td>-61.487133</td>\n",
       "      <td>-1961.149292</td>\n",
       "      <td>3</td>\n",
       "      <td>232.488541</td>\n",
       "      <td>5</td>\n",
       "      <td>1</td>\n",
       "      <td>1</td>\n",
       "      <td>1</td>\n",
       "      <td>320</td>\n",
       "      <td>0.226827</td>\n",
       "      <td>0</td>\n",
       "      <td>4</td>\n",
       "    </tr>\n",
       "  </tbody>\n",
       "</table>\n",
       "</div>"
      ],
      "text/plain": [
       "   Index         X          Y            Z  TrackID        Time  StatNb  \\\n",
       "0      0  8.883409 -61.202305 -1974.859985        3  232.044861       5   \n",
       "1      1  8.858191 -61.225544 -1973.742188        3  232.074081       5   \n",
       "2      2  8.824563 -61.256523 -1972.251953        3  232.118286       5   \n",
       "3      3  8.632817 -61.432972 -1963.756592        3  232.406479       5   \n",
       "4      4  8.573978 -61.487133 -1961.149292        3  232.488541       5   \n",
       "\n",
       "   ViewNb  PlaneNb  LayerNb  StrawNb  dist2Wire  event  k  \n",
       "0       0        0        0      319   0.274822      0  0  \n",
       "1       0        0        1      320   0.582455      0  1  \n",
       "2       0        1        0      319   0.111252      0  2  \n",
       "3       1        0        1      320   0.164412      0  3  \n",
       "4       1        1        1      320   0.226827      0  4  "
      ]
     },
     "execution_count": 3,
     "metadata": {},
     "output_type": "execute_result"
    }
   ],
   "source": [
    "all_hits = pd.read_csv('Data/strawtubesPoint_decoded_hits.csv', delimiter=',')\n",
    "all_hits['Index'] = all_hits.index\n",
    "all_hits = all_hits[['Index', 'X', 'Y', 'Z', 'TrackID', 'Time', 'StatNb', 'ViewNb', 'PlaneNb', 'LayerNb', 'StrawNb', 'dist2Wire', 'event', 'k']]\n",
    "all_hits.head()"
   ]
  },
  {
   "cell_type": "code",
   "execution_count": 91,
   "metadata": {
    "collapsed": true
   },
   "outputs": [],
   "source": [
    "#для отбора хитов отдельного слоя\n",
    "def selector(data, StatNb, ViewNb, PlaneNb, LayerNb):\n",
    "    return data.loc[(data.StatNb==StatNb)&(data.ViewNb==ViewNb)&(data.PlaneNb==PlaneNb)&(data.LayerNb==LayerNb)]\n",
    "\n",
    "# восстанавливает по крайним точкам отрезка коэффициент наклона и смещение\n",
    "def get_plane(point1, point2):\n",
    "    y1 = point1[0]\n",
    "    z1 = point1[1]\n",
    "    y2 = point2[0]\n",
    "    z2 = point2[1]\n",
    "    \n",
    "    #y = kz + b\n",
    "    k = float(y2 - y1)/float(z2 - z1)\n",
    "    b = y1 - k*z1\n",
    "    return k, b\n",
    "\n",
    "class layer:\n",
    "    def __init__(self, z, bias):\n",
    "        self.bias = bias\n",
    "        self.z = z\n",
    "    def y(self, straw_id):\n",
    "        return 499 - self.bias - straw_id * 1.76"
   ]
  },
  {
   "cell_type": "code",
   "execution_count": 5,
   "metadata": {
    "collapsed": true
   },
   "outputs": [],
   "source": [
    "def modify_for_YZ_analisys(event):    \n",
    "    layer1000 = selector(event, 1, 0, 0, 0)\n",
    "    layer1001 = selector(event, 1, 0, 0, 1)\n",
    "    layer1010 = selector(event, 1, 0, 1, 0)\n",
    "    layer1011 = selector(event, 1, 0, 1, 1)\n",
    "\n",
    "    layer1300 = selector(event, 1, 3, 0, 0)\n",
    "    layer1301 = selector(event, 1, 3, 0, 1)\n",
    "    layer1310 = selector(event, 1, 3, 1, 0)\n",
    "    layer1311 = selector(event, 1, 3, 1, 1)\n",
    "\n",
    "    layer2000 = selector(event, 2, 0, 0, 0)\n",
    "    layer2001 = selector(event, 2, 0, 0, 1)\n",
    "    layer2010 = selector(event, 2, 0, 1, 0)\n",
    "    layer2011 = selector(event, 2, 0, 1, 1)\n",
    "\n",
    "    layer2300 = selector(event, 2, 3, 0, 0)\n",
    "    layer2301 = selector(event, 2, 3, 0, 1)\n",
    "    layer2310 = selector(event, 2, 3, 1, 0)\n",
    "    layer2311 = selector(event, 2, 3, 1, 1)\n",
    "    \n",
    "    #1-y1\n",
    "    z1000 = 2598. - 15. - 0.5*(2.6 - 1.1 - 0.9828) - 1.1 - 0.5*0.9828\n",
    "    layer1000.loc[:, 'Wy'] = -(0.5*0.9828 + 1.76*(layer1000.StrawNb.values-1)) + 499\n",
    "    layer1000.loc[:, 'Wz'] = np.ones(layer1000.shape[0])*z1000\n",
    "\n",
    "    z1001 = z1000 + 1.1\n",
    "    layer1001.loc[:, 'Wy'] = -(0.5*0.9828 - 0.88 + 1.76*(layer1001.StrawNb.values-1)) + 499\n",
    "    layer1001.loc[:, 'Wz'] = np.ones(layer1001.shape[0])*z1001\n",
    "\n",
    "    z1010 = z1000 + 2.6\n",
    "    layer1010.loc[:, 'Wy'] = -(0.5*0.9828 - 0.44 + 1.76*(layer1010.StrawNb.values-1)) + 499\n",
    "    layer1010.loc[:, 'Wz'] = np.ones(layer1010.shape[0])*z1010\n",
    "\n",
    "    z1011 = z1010 + 1.1\n",
    "    layer1011.loc[:, 'Wy'] = -(0.5*0.9828 - 0.44 - 0.88 + 1.76*(layer1011.StrawNb.values-1)) + 499\n",
    "    layer1011.loc[:, 'Wz'] = np.ones(layer1011.shape[0])*z1011\n",
    "\n",
    "    #1-y2\n",
    "    z1300 = 2598. + 15. - 0.5*(2.6 - 1.1 - 0.9828) - 1.1 - 0.5*0.9828\n",
    "    layer1300.loc[:, 'Wy'] = -(0.5*0.9828 + 1.76*(layer1300.StrawNb.values-1)) + 499\n",
    "    layer1300.loc[:, 'Wz'] = np.ones(layer1300.shape[0])*z1300\n",
    "\n",
    "    z1301 = z1300 + 1.1\n",
    "    layer1301.loc[:, 'Wy'] = -(0.5*0.9828 - 0.88 + 1.76*(layer1301.StrawNb.values-1)) + 499\n",
    "    layer1301.loc[:, 'Wz'] = np.ones(layer1301.shape[0])*z1301\n",
    "\n",
    "    z1310 = z1300 + 2.6\n",
    "    layer1310.loc[:, 'Wy'] = -(0.5*0.9828 - 0.44 + 1.76*(layer1310.StrawNb.values-1)) + 499\n",
    "    layer1310.loc[:, 'Wz'] = np.ones(layer1310.shape[0])*z1310\n",
    "\n",
    "    z1311 = z1310 + 1.1\n",
    "    layer1311.loc[:, 'Wy'] = -(0.5*0.9828 - 0.44 - 0.88 + 1.76*(layer1311.StrawNb.values-1)) + 499\n",
    "    layer1311.loc[:, 'Wz'] = np.ones(layer1311.shape[0])*z1311\n",
    "\n",
    "    #2-y1\n",
    "    z2000 = 2798. - 15. - 0.5*(2.6 - 1.1 - 0.9828) - 1.1 - 0.5*0.9828\n",
    "    layer2000.loc[:, 'Wy'] = -(0.5*0.9828 + 1.76*(layer2000.StrawNb.values-1)) + 499\n",
    "    layer2000.loc[:, 'Wz'] = np.ones(layer2000.shape[0])*z2000\n",
    "\n",
    "    z2001 = z2000 + 1.1\n",
    "    layer2001.loc[:, 'Wy'] = -(0.5*0.9828 - 0.88 + 1.76*(layer2001.StrawNb.values-1)) + 499\n",
    "    layer2001.loc[:, 'Wz'] = np.ones(layer2001.shape[0])*z2001\n",
    "\n",
    "    z2010 = z2000 + 2.6\n",
    "    layer2010.loc[:, 'Wy'] = -(0.5*0.9828 - 0.44 + 1.76*(layer2010.StrawNb.values-1)) + 499\n",
    "    layer2010.loc[:, 'Wz'] = np.ones(layer2010.shape[0])*z2010\n",
    "\n",
    "    z2011 = z2010 + 1.1\n",
    "    layer2011.loc[:, 'Wy'] = -(0.5*0.9828 - 0.44 - 0.88 + 1.76*(layer2011.StrawNb.values-1)) + 499\n",
    "    layer2011.loc[:, 'Wz'] = np.ones(layer2011.shape[0])*z2011\n",
    "\n",
    "    #2-y2\n",
    "    z2300 = 2798. + 15. - 0.5*(2.6 - 1.1 - 0.9828) - 1.1 - 0.5*0.9828\n",
    "    layer2300.loc[:, 'Wy'] = -(0.5*0.9828 + 1.76*(layer2300.StrawNb.values-1)) + 499\n",
    "    layer2300.loc[:, 'Wz'] = np.ones(layer2300.shape[0])*z2300\n",
    "\n",
    "    z2301 = z2300 + 1.1\n",
    "    layer2301.loc[:, 'Wy'] = -(0.5*0.9828 - 0.88 + 1.76*(layer2301.StrawNb.values-1)) + 499\n",
    "    layer2301.loc[:, 'Wz'] = np.ones(layer2301.shape[0])*z2301\n",
    "\n",
    "    z2310 = z2300 + 2.6\n",
    "    layer2310.loc[:, 'Wy'] = -(0.5*0.9828 - 0.44 + 1.76*(layer2310.StrawNb.values-1)) + 499\n",
    "    layer2310.loc[:, 'Wz'] = np.ones(layer2310.shape[0])*z2310\n",
    "\n",
    "    z2311 = z2310 + 1.1\n",
    "    layer2311.loc[:, 'Wy'] = -(0.5*0.9828 - 0.44 - 0.88 + 1.76*(layer2311.StrawNb.values-1)) + 499\n",
    "    layer2311.loc[:, 'Wz'] = np.ones(layer2311.shape[0])*z2311\n",
    "    \n",
    "    layers = [layer1000, layer1001, layer1010, layer1011,\n",
    "              layer1300, layer1301, layer1310, layer1311,\n",
    "              layer2000, layer2001, layer2010, layer2011,\n",
    "              layer2300, layer2301, layer2310, layer2311]\n",
    "\n",
    "    return pd.concat(layers, axis=0)"
   ]
  },
  {
   "cell_type": "code",
   "execution_count": 6,
   "metadata": {
    "collapsed": true
   },
   "outputs": [],
   "source": [
    "def modify_for_XZ_analisys(event):    \n",
    "    layer1100 = selector(event, 1, 1, 0, 0)\n",
    "    layer1101 = selector(event, 1, 1, 0, 1)\n",
    "    layer1110 = selector(event, 1, 1, 1, 0)\n",
    "    layer1111 = selector(event, 1, 1, 1, 1)\n",
    "\n",
    "    layer1200 = selector(event, 1, 2, 0, 0)\n",
    "    layer1201 = selector(event, 1, 2, 0, 1)\n",
    "    layer1210 = selector(event, 1, 2, 1, 0)\n",
    "    layer1211 = selector(event, 1, 2, 1, 1)\n",
    "\n",
    "    layer2100 = selector(event, 2, 1, 0, 0)\n",
    "    layer2101 = selector(event, 2, 1, 0, 1)\n",
    "    layer2110 = selector(event, 2, 1, 1, 0)\n",
    "    layer2111 = selector(event, 2, 1, 1, 1)\n",
    "\n",
    "    layer2200 = selector(event, 2, 2, 0, 0)\n",
    "    layer2201 = selector(event, 2, 2, 0, 1)\n",
    "    layer2210 = selector(event, 2, 2, 1, 0)\n",
    "    layer2211 = selector(event, 2, 2, 1, 1)\n",
    "    \n",
    "    #1-u\n",
    "    z1100 = 2598. - 5. - 0.25*(2.6 - 1.1 - 0.9828) - 1.1 - 0.5*0.9828\n",
    "    layer1100.loc[:, 'dist2Centre'] = -(0.5*0.9828 + 1.76*(layer1100.StrawNb.values-1)) + 499\n",
    "    layer1100.loc[:, 'Wz'] = np.ones(layer1100.shape[0])*z1100\n",
    "\n",
    "    z1101 = z1100 + 1.1\n",
    "    layer1101.loc[:, 'dist2Centre'] = -(0.5*0.9828 - 0.88 + 1.76*(layer1101.StrawNb.values-1)) + 499\n",
    "    layer1101.loc[:, 'Wz'] = np.ones(layer1101.shape[0])*z1101\n",
    "\n",
    "    z1110 = z1100 + 2.6\n",
    "    layer1110.loc[:, 'dist2Centre'] = -(0.5*0.9828 - 0.44 + 1.76*(layer1110.StrawNb.values-1)) + 499\n",
    "    layer1110.loc[:, 'Wz'] = np.ones(layer1110.shape[0])*z1110\n",
    "\n",
    "    z1111 = z1110 + 1.1\n",
    "    layer1111.loc[:, 'dist2Centre'] = -(0.5*0.9828 - 0.44 - 0.88 + 1.76*(layer1111.StrawNb.values-1)) + 499\n",
    "    layer1111.loc[:, 'Wz'] = np.ones(layer1111.shape[0])*z1111\n",
    "\n",
    "    #1-v\n",
    "    z1200 = 2598. + 5. - 0.25*(2.6 - 1.1 - 0.9828) - 1.1 - 0.5*0.9828\n",
    "    layer1200.loc[:, 'dist2Centre'] = -(0.5*0.9828 + 1.76*(layer1200.StrawNb.values-1)) + 499\n",
    "    layer1200.loc[:, 'Wz'] = np.ones(layer1200.shape[0])*z1200\n",
    "    \n",
    "    z1201 = z1200 + 1.1\n",
    "    layer1201.loc[:, 'dist2Centre'] = -(0.5*0.9828 - 0.88 + 1.76*(layer1201.StrawNb.values-1)) + 499\n",
    "    layer1201.loc[:, 'Wz'] = np.ones(layer1201.shape[0])*z1201\n",
    "\n",
    "    z1210 = z1200 + 2.6\n",
    "    layer1210.loc[:, 'dist2Centre'] = -(0.5*0.9828 - 0.44 + 1.76*(layer1210.StrawNb.values-1)) + 499\n",
    "    layer1210.loc[:, 'Wz'] = np.ones(layer1210.shape[0])*z1210\n",
    "\n",
    "    z1211 = z1210 + 1.1\n",
    "    layer1211.loc[:, 'dist2Centre'] = -(0.5*0.9828 - 0.44 - 0.88 + 1.76*(layer1211.StrawNb.values-1)) + 499\n",
    "    layer1211.loc[:, 'Wz'] = np.ones(layer1211.shape[0])*z1211\n",
    "\n",
    "    #2-u\n",
    "    z2100 = 2798. - 5. - 0.25*(2.6 - 1.1 - 0.9828) - 1.1 - 0.5*0.9828\n",
    "    layer2100.loc[:, 'dist2Centre'] = -(0.5*0.9828 + 1.76*(layer2100.StrawNb.values-1)) + 499\n",
    "    layer2100.loc[:, 'Wz'] = np.ones(layer2100.shape[0])*z2100\n",
    "\n",
    "    z2101 = z2100 + 1.1\n",
    "    layer2101.loc[:, 'dist2Centre'] = -(0.5*0.9828 - 0.88 + 1.76*(layer2101.StrawNb.values-1)) + 499\n",
    "    layer2101.loc[:, 'Wz'] = np.ones(layer2101.shape[0])*z2101\n",
    "\n",
    "    z2110 = z2100 + 2.6\n",
    "    layer2110.loc[:, 'dist2Centre'] = -(0.5*0.9828 - 0.44 + 1.76*(layer2110.StrawNb.values-1)) + 499\n",
    "    layer2110.loc[:, 'Wz'] = np.ones(layer2110.shape[0])*z2110\n",
    "\n",
    "    z2111 = z2110 + 1.1\n",
    "    layer2111.loc[:, 'dist2Centre'] = -(0.5*0.9828 - 0.44 - 0.88 + 1.76*(layer2111.StrawNb.values-1)) + 499\n",
    "    layer2111.loc[:, 'Wz'] = np.ones(layer2111.shape[0])*z2111\n",
    "\n",
    "    #2-v\n",
    "    z2200 = 2798. + 5. - 0.25*(2.6 - 1.1 - 0.9828) - 1.1 - 0.5*0.9828\n",
    "    layer2200.loc[:, 'dist2Centre'] = -(0.5*0.9828 + 1.76*(layer2200.StrawNb.values-1)) + 499\n",
    "    layer2200.loc[:, 'Wz'] = np.ones(layer2200.shape[0])*z2200\n",
    "\n",
    "    z2201 = z2200 + 1.1\n",
    "    layer2201.loc[:, 'dist2Centre'] = -(0.5*0.9828 - 0.88 + 1.76*(layer2201.StrawNb.values-1)) + 499\n",
    "    layer2201.loc[:, 'Wz'] = np.ones(layer2201.shape[0])*z2201\n",
    "\n",
    "    z2210 = z2200 + 2.6\n",
    "    layer2210.loc[:, 'dist2Centre'] = -(0.5*0.9828 - 0.44 + 1.76*(layer2210.StrawNb.values-1)) + 499\n",
    "    layer2210.loc[:, 'Wz'] = np.ones(layer2210.shape[0])*z2210\n",
    "\n",
    "    z2211 = z2210 + 1.1\n",
    "    layer2211.loc[:, 'dist2Centre'] = -(0.5*0.9828 - 0.44 - 0.88 + 1.76*(layer2211.StrawNb.values-1)) + 499\n",
    "    layer2211.loc[:, 'Wz'] = np.ones(layer2211.shape[0])*z2211\n",
    "    \n",
    "    layers = [layer1100, layer1101, layer1110, layer1111,\n",
    "              layer1200, layer1201, layer1210, layer1211,\n",
    "              layer2100, layer2101, layer2110, layer2111,\n",
    "              layer2200, layer2201, layer2210, layer2211]\n",
    "\n",
    "    return pd.concat(layers, axis=0)"
   ]
  },
  {
   "cell_type": "code",
   "execution_count": 109,
   "metadata": {
    "collapsed": false
   },
   "outputs": [],
   "source": [
    "class parametresYZ:\n",
    "    def __init__(self, y, dist2Wire, index):\n",
    "        self.dist2Wire = dist2Wire\n",
    "        self.y = y\n",
    "        self.index = index\n",
    "\n",
    "def conventorYZ(event):\n",
    "    event = modify_for_YZ_analisys(event)\n",
    "    dictionary = {}\n",
    "    for i in event.Wz.values:\n",
    "        dictionary[i] = []\n",
    "    for i in event.index:\n",
    "        dictionary[event.Wz[i]].append(parametresYZ(event.Wy[i], event.dist2Wire[i], event.Index[i]))\n",
    "    return dictionary\n",
    "\n",
    "class parametresXZ:\n",
    "    def __init__(self, dist2Centre, dist2Wire, angle, index):\n",
    "        self.dist2Centre = dist2Centre\n",
    "        self.dist2Wire = dist2Wire\n",
    "        self.angle = angle\n",
    "        self.index = index\n",
    "\n",
    "def conventorXZ(event):\n",
    "    event = modify_for_XZ_analisys(event)\n",
    "    dictionary = {}\n",
    "    for i in event.Wz.values:\n",
    "        dictionary[i] = []\n",
    "    for i in event.index:\n",
    "        dictionary[event.Wz[i]].append(parametresXZ(event.dist2Centre[i], event.dist2Wire[i], (-(event.ViewNb[i] - 2) * 2 + 1) * np.pi / 36, event.Index[i]))\n",
    "    return dictionary"
   ]
  },
  {
   "cell_type": "code",
   "execution_count": 224,
   "metadata": {
    "collapsed": true
   },
   "outputs": [],
   "source": [
    "def points_crossing_lineYZ(plane_k, plane_b, plane_width, hits, n_min):\n",
    "    lower_y = 0.\n",
    "    upper_y = 0.\n",
    "    crossing_points = []\n",
    "    Y = [] # for linnear regression\n",
    "    Z = []\n",
    "    n = 0 # number of touched layers\n",
    "    for i in hits.keys():\n",
    "        #lower_y = plane_k * i + plane_b - 1. * plane_width / np.cos(np.arctan(plane_k))\n",
    "        #upper_y = plane_k * i + plane_b + 1. * plane_width / np.cos(np.arctan(plane_k))\n",
    "        lower_y = plane_k * i + plane_b - 1. * plane_width\n",
    "        upper_y = plane_k * i + plane_b + 1. * plane_width\n",
    "        a = False\n",
    "        for j in hits[i]:\n",
    "            if ((j.y < upper_y) & (j.y > lower_y)):\n",
    "                crossing_points.append(j.index)\n",
    "                Z.append(i)\n",
    "                Y.append(j.y)\n",
    "                a = True\n",
    "        if a: n += 1\n",
    "    \n",
    "    if n < n_min:\n",
    "        return 0, crossing_points, [0., 0.]\n",
    "    else:\n",
    "        lin_regr = np.polyfit(Z, Y, 1)\n",
    "        return 1, crossing_points, lin_regr\n",
    "\n",
    "def points_crossing_lineXZ(k, b, width, hits, n_min):\n",
    "    lower_x = 0.\n",
    "    upper_x = 0.\n",
    "    crossing_points = []\n",
    "    X = [] # for linnear regression\n",
    "    Z = []\n",
    "    n = 0 # number of touched layers\n",
    "    for i in hits.keys():\n",
    "        lower_x = k * i + b - 1. * width\n",
    "        upper_x = k * i + b + 1. * width\n",
    "        a = False\n",
    "        for j in hits[i]:\n",
    "            if ((j[0] < upper_x) & (j[0] > lower_x)):\n",
    "                crossing_points.append(j[2])\n",
    "                Z.append(i)\n",
    "                X.append(j[0])\n",
    "                a = True\n",
    "        if a: n += 1\n",
    "    \n",
    "    if n < n_min:\n",
    "        return 0, crossing_points, [0., 0.]\n",
    "    else:\n",
    "        lin_regr = np.polyfit(Z, X, 1)\n",
    "        return 1, crossing_points, lin_regr"
   ]
  },
  {
   "cell_type": "code",
   "execution_count": 204,
   "metadata": {
    "collapsed": true
   },
   "outputs": [],
   "source": [
    "def loopYZ(event, n_min, plane_width):\n",
    "    hits = conventorYZ(event) # dictionary with hits: key = z; value = array of objects with fields(y, dist2Wire, index)\n",
    "    tracks = {} #finded tracks: key = id of recognized track; value = (k, p)\n",
    "    linking_table = {} # key = id of recognized track; value = array of hit ID's from the main table\n",
    "    trackID = 1\n",
    "    start_layer = layer(2581.15, 0.5*0.9828)\n",
    "    end_layer = l2311 = layer(2815.95, 0.5*0.9828 - 0.44 - 0.88)\n",
    "    start_y = []\n",
    "    start_z = start_layer.z\n",
    "    end_y = []\n",
    "    end_z = end_layer.z\n",
    "    for i in range(567):\n",
    "        start_y += [start_layer.y(i),]\n",
    "        end_y += [end_layer.y(i),]\n",
    "    for i in start_y:\n",
    "        for j in end_y:\n",
    "            k, b = get_plane((i, start_z), (j, end_z))\n",
    "            indicator, crossing_points, lin_regr = points_crossing_lineYZ(k, b, plane_width, hits, n_min)\n",
    "            if indicator == 1:\n",
    "                tracks[trackID] = lin_regr\n",
    "                linking_table[trackID] = crossing_points\n",
    "                trackID += 1\n",
    "    return tracks, linking_table"
   ]
  },
  {
   "cell_type": "code",
   "execution_count": 222,
   "metadata": {
    "collapsed": false
   },
   "outputs": [],
   "source": [
    "def loopXZ(event, tracks, linking_table, n_min, width):\n",
    "    hits = conventorXZ(event)\n",
    "    coeff = 1 / sin(np.pi / 36)\n",
    "    new_linking_table = {}\n",
    "    new_tracks = {}\n",
    "    new_trackID = 1\n",
    "    x_points = [((i * 1.76 + 0.5 * 0.9828) * coeff - 250) for i in range(25)]\n",
    "    start_z = 2591.2793\n",
    "    end_z = 2806.0793000000003\n",
    "    for track_key in tracks.keys():\n",
    "        k = tracks[track_key][0]\n",
    "        b = tracks[track_key][1]\n",
    "        hits_loc = {}\n",
    "        n = 0\n",
    "        for z in hits.keys():\n",
    "            y = k * z + b\n",
    "            hits_loc[z] = []\n",
    "            for hit in hits[z]:\n",
    "                x = y / tan(- hit.angle) - hit.dist2Centre / sin(- hit.angle)\n",
    "                if ((x > -250) & (x < 250)):\n",
    "                    hits_loc[z].append((x, hit.dist2Wire, hit.index))\n",
    "                    n += 1\n",
    "        if (n >= n_min):\n",
    "            for i in x_points:\n",
    "                for j in x_points:\n",
    "                    k, b = get_plane((i, start_z), (j, end_z))\n",
    "                    indicator, crossing_points, lin_regr = points_crossing_lineXZ(k, b, width, hits_loc, n_min)\n",
    "                    if indicator == 1:\n",
    "                        new_tracks[track_key * 1000 + new_trackID] = lin_regr\n",
    "                        new_linking_table[track_key * 1000 + new_trackID] = crossing_points\n",
    "                        new_trackID += 1\n",
    "    return new_tracks, new_linking_table"
   ]
  },
  {
   "cell_type": "code",
   "execution_count": 159,
   "metadata": {
    "collapsed": false
   },
   "outputs": [
    {
     "data": {
      "text/plain": [
       "{2.0, 3.0}"
      ]
     },
     "execution_count": 159,
     "metadata": {},
     "output_type": "execute_result"
    }
   ],
   "source": [
    "event0 = all_hits[all_hits['event']==2]\n",
    "set(event0['TrackID'])"
   ]
  },
  {
   "cell_type": "code",
   "execution_count": 206,
   "metadata": {
    "collapsed": false
   },
   "outputs": [
    {
     "data": {
      "image/png": "[encoded data removed]",
      "text/plain": [
       "<matplotlib.figure.Figure at 0x7f2b0d5038d0>"
      ]
     },
     "metadata": {},
     "output_type": "display_data"
    }
   ],
   "source": [
    "plt.scatter(modify_for_YZ_analisys(event0)['Wz'], modify_for_YZ_analisys(event0)['Wy'])\n",
    "t = np.arange(2550, 2850, 299)\n",
    "for i in tracks.keys():\n",
    "    plt.plot(t, tracks[i][0] * t + tracks[i][1], lw = 2)"
   ]
  },
  {
   "cell_type": "code",
   "execution_count": 205,
   "metadata": {
    "collapsed": true
   },
   "outputs": [],
   "source": [
    "tracks, linking_table = loopYZ(event0, 7, 0.85)"
   ]
  },
  {
   "cell_type": "code",
   "execution_count": 225,
   "metadata": {
    "collapsed": false
   },
   "outputs": [],
   "source": [
    "new_tracks, new_linking_table = loopXZ(event0, tracks, linking_table, 6, 15)"
   ]
  },
  {
   "cell_type": "code",
   "execution_count": 189,
   "metadata": {
    "collapsed": false
   },
   "outputs": [],
   "source": [
    "hits = conventorXZ(event0)\n",
    "coeff = 1 / sin(np.pi / 36)\n",
    "new_linking_table = {}\n",
    "new_tracks = {}\n",
    "new_trackID = 1\n",
    "x_points = [((i * 1.76 / 2 + 0.5 * 0.9828) * coeff - 250) for i in range(50)]\n",
    "start_z = 2591.2793\n",
    "end_z = 2806.0793000000003\n",
    "track_key = 1\n",
    "k = tracks[track_key][0]\n",
    "b = tracks[track_key][1]\n",
    "hits_loc = {}\n",
    "n = 0\n",
    "for z in hits.keys():\n",
    "    y = k * z + b\n",
    "    hits_loc[z] = []\n",
    "    for hit in hits[z]:\n",
    "        x = y / tan(- hit.angle) - hit.dist2Centre / sin(- hit.angle)\n",
    "        if ((x > -250) & (x < 250)):\n",
    "            hits_loc[z].append((x, hit.dist2Wire, hit.index))\n",
    "            n += 1"
   ]
  },
  {
   "cell_type": "code",
   "execution_count": 190,
   "metadata": {
    "collapsed": false
   },
   "outputs": [],
   "source": [
    "xs = []\n",
    "zs = []\n",
    "for i in hits_loc.keys():\n",
    "    for j in hits_loc[i]:\n",
    "        zs.append(i)\n",
    "        xs.append(j[0])"
   ]
  },
  {
   "cell_type": "code",
   "execution_count": 227,
   "metadata": {
    "collapsed": false
   },
   "outputs": [
    {
     "data": {
      "image/png": "[encoded data removed]",
      "text/plain": [
       "<matplotlib.figure.Figure at 0x7f2b0d44ea10>"
      ]
     },
     "metadata": {},
     "output_type": "display_data"
    }
   ],
   "source": [
    "plt.scatter(zs, xs)\n",
    "t = np.arange(2550, 2850, 299)\n",
    "for i in new_tracks.keys():\n",
    "    plt.plot(t, new_tracks[i][0] * t + new_tracks[i][1], lw = 2)"
   ]
  },
  {
   "cell_type": "code",
   "execution_count": 226,
   "metadata": {
    "collapsed": false
   },
   "outputs": [
    {
     "data": {
      "text/plain": [
       "{1001: array([ -5.79314357e-01,   1.58186406e+03]),\n",
       " 1002: array([ -6.81227682e-01,   1.86649785e+03]),\n",
       " 1003: array([ -7.61783228e-01,   2.08637670e+03]),\n",
       " 1004: array([ -7.34671301e-01,   2.01582217e+03]),\n",
       " 2005: array([ -4.94452522e-01,   1.36290345e+03]),\n",
       " 2006: array([ -5.96236069e-01,   1.64717563e+03]),\n",
       " 2007: array([ -6.77149013e-01,   1.86805587e+03]),\n",
       " 2008: array([ -6.29616072e-01,   1.74428893e+03])}"
      ]
     },
     "execution_count": 226,
     "metadata": {},
     "output_type": "execute_result"
    }
   ],
   "source": [
    "new_tracks"
   ]
  },
  {
   "cell_type": "code",
   "execution_count": null,
   "metadata": {
    "collapsed": true
   },
   "outputs": [],
   "source": []
  }
 ],
 "metadata": {
  "kernelspec": {
   "display_name": "Python 2",
   "language": "python",
   "name": "python2"
  },
  "language_info": {
   "codemirror_mode": {
    "name": "ipython",
    "version": 2
   },
   "file_extension": ".py",
   "mimetype": "text/x-python",
   "name": "python",
   "nbconvert_exporter": "python",
   "pygments_lexer": "ipython2",
   "version": "2.7.10"
  }
 },
 "nbformat": 4,
 "nbformat_minor": 0
}
